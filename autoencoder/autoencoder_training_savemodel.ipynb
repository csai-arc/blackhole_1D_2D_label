{
 "cells": [
  {
   "cell_type": "code",
   "execution_count": 8,
   "id": "582e4274",
   "metadata": {},
   "outputs": [],
   "source": [
    "from TIRE import DenseTIRE as TIRE\n",
    "import torch\n",
    "import numpy as np\n",
    "import matplotlib.pyplot as plt\n",
    "from TIRE import utils\n",
    "from scipy import integrate\n",
    "from scipy.fft import fft\n",
    "from scipy.stats import entropy\n",
    "from scipy.stats import variation\n",
    "import pandas as pd\n",
    "import csv\n",
    "import sys"
   ]
  },
  {
   "cell_type": "code",
   "execution_count": 10,
   "id": "4495775b",
   "metadata": {},
   "outputs": [],
   "source": [
    "txtfilename_train_list=['lorenz','pink_noise.txt','white_noise.txt','x00.085000.txt','x00.160000.txt','x00.235000.txt','x00.310000.txt','x00.385000.txt','x00.460000.txt','x00.535000.txt','x00.610000.txt','x00.685000.txt','x00.760000.txt','x00.835000.txt','x00.910000.txt']"
   ]
  },
  {
   "cell_type": "code",
   "execution_count": 11,
   "id": "047ae732",
   "metadata": {},
   "outputs": [],
   "source": [
    "ts3=np.empty(0)\n",
    "for idx in range(len(txtfilename_train_list)):\n",
    "    txtfilename2='./train_data/'+txtfilename_train_list[idx]\n",
    "    ts2=np.loadtxt(txtfilename2)\n",
    "    #std=np.std(ts2)\n",
    "    \n",
    "    minimum=(min(ts2))\n",
    "    ts2=ts2-minimum\n",
    "    maximum=(max(ts2))\n",
    "    ts2=ts2/maximum\n",
    "\n",
    "    ts3=np.append(ts3,ts2)\n"
   ]
  },
  {
   "cell_type": "code",
   "execution_count": 12,
   "id": "414a661c",
   "metadata": {},
   "outputs": [],
   "source": [
    "device = torch.device('cuda' if torch.cuda.is_available() else 'cpu')\n",
    "dim = 1"
   ]
  },
  {
   "cell_type": "code",
   "execution_count": 13,
   "id": "47d78c67",
   "metadata": {},
   "outputs": [
    {
     "name": "stdout",
     "output_type": "stream",
     "text": [
      "Training autoencoder for original timeseries\n"
     ]
    },
    {
     "name": "stderr",
     "output_type": "stream",
     "text": [
      "Loss: 0.00: 100%|███████████████████████████| 1000/1000 [32:11<00:00,  1.93s/it]\n"
     ]
    },
    {
     "name": "stdout",
     "output_type": "stream",
     "text": [
      "Training autoencoder for FFT timeseries\n"
     ]
    },
    {
     "name": "stderr",
     "output_type": "stream",
     "text": [
      "Loss: 0.02: 100%|███████████████████████████| 1000/1000 [32:18<00:00,  1.94s/it]\n"
     ]
    }
   ],
   "source": [
    "model = TIRE(dim,window_size=10,intermediate_dim_TD=10,intermediate_dim_FD=10).to(device)\n",
    "model.fit(np.array(ts3), epoches=1000)"
   ]
  },
  {
   "cell_type": "code",
   "execution_count": 14,
   "id": "f40f735e",
   "metadata": {},
   "outputs": [],
   "source": [
    "torch.save(model.state_dict(), './weights/checkpoint_encode_ws10.pth.tar')"
   ]
  }
 ],
 "metadata": {
  "kernelspec": {
   "display_name": "Python 3 (ipykernel)",
   "language": "python",
   "name": "python3"
  },
  "language_info": {
   "codemirror_mode": {
    "name": "ipython",
    "version": 3
   },
   "file_extension": ".py",
   "mimetype": "text/x-python",
   "name": "python",
   "nbconvert_exporter": "python",
   "pygments_lexer": "ipython3",
   "version": "3.10.4"
  }
 },
 "nbformat": 4,
 "nbformat_minor": 5
}
